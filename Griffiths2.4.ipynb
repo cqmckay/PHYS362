{
 "cells": [
  {
   "cell_type": "markdown",
   "metadata": {},
   "source": [
    "# Problem 2.4\n",
    "\n",
    "## Problem statement\n",
    "\n",
    "Calculate $\\langle x\\rangle$, $\\langle x^2\\rangle$, $\\langle p\\rangle$, $\\langle p^2\\rangle$, $\\sigma_x$, and $\\sigma_p$ for the $n$th stationary state of the infinite square well. Check that the uncertainty principle is satisfied. Which state comes closest to the uncertainty limit?\n",
    "\n",
    "----\n",
    "\n",
    "## Solution\n",
    "\n",
    "We're going to add a couple of new tools to our toolbox in this problem. We could very easily do just exactly what we have done before to get the expectation values (and that's more or less what I expect most of you will do), but the benefit of using a computer-based system for this kind of work is that you can abstract and automate common tasks. Computing an expectation value is just such a task.\n",
    "\n",
    "There is one little wrinkle, though, which is that we have to be able to define our expectation value function in such a way that it can deal with momentum operators (which need to take derivatives) as well as position operators (which are just multiplication), and any combination of the above.  Fortunately, `sympy` has the tools to do this.\n"
   ]
  },
  {
   "cell_type": "code",
   "execution_count": 6,
   "metadata": {
    "collapsed": false
   },
   "outputs": [
    {
     "data": {
      "text/plain": [
       "True"
      ]
     },
     "execution_count": 6,
     "metadata": {},
     "output_type": "execute_result"
    }
   ],
   "source": [
    "import sympy as sp\n",
    "from sympy.physics.quantum.state import Wavefunction\n",
    "\n",
    "sp.init_printing()\n",
    "\n",
    "x,a = sp.symbols('x a', positive=True)\n",
    "n = sp.symbols('n', positive=True, integer=True)\n",
    "\n",
    "psi_n = Wavefunction(sp.sqrt(2/a)*sp.sin(n*sp.pi*x/a), (x,0,a))\n",
    "\n",
    "psi_n.is_normalized"
   ]
  },
  {
   "cell_type": "code",
   "execution_count": 15,
   "metadata": {
    "collapsed": false
   },
   "outputs": [
    {
     "data": {
      "image/png": "[encoded data removed]",
      "text/latex": [
       "$$\\frac{a}{2}$$"
      ],
      "text/plain": [
       "a\n",
       "─\n",
       "2"
      ]
     },
     "execution_count": 15,
     "metadata": {},
     "output_type": "execute_result"
    }
   ],
   "source": [
    "(sp.integrate(psi_n.expr * x * psi_n.expr, (x, 0, a))).simplify()"
   ]
  },
  {
   "cell_type": "code",
   "execution_count": 19,
   "metadata": {
    "collapsed": true
   },
   "outputs": [],
   "source": [
    "from sympy.physics.quantum.operator import DifferentialOperator\n",
    "from sympy.physics.quantum.constants import hbar\n",
    "\n",
    "f = sp.symbols('f')"
   ]
  },
  {
   "cell_type": "code",
   "execution_count": 22,
   "metadata": {
    "collapsed": true
   },
   "outputs": [],
   "source": [
    "p = DifferentialOperator(-sp.I*hbar*sp.Derivative(f(x), x), f(x))"
   ]
  },
  {
   "cell_type": "code",
   "execution_count": 41,
   "metadata": {
    "collapsed": false
   },
   "outputs": [
    {
     "data": {
      "image/png": "[encoded data removed]",
      "text/latex": [
       "$$\\frac{\\sqrt{2}}{\\sqrt{a}} \\sin{\\left (\\frac{\\pi x}{a} n \\right )} \\operatorname{Wavefunction}{\\left (- \\frac{i \\pi}{a^{\\frac{3}{2}}} \\sqrt{2} \\hbar n \\cos{\\left (\\frac{\\pi x}{a} n \\right )},\\left ( x, \\quad 0, \\quad a\\right ) \\right )}$$"
      ],
      "text/plain": [
       "                          ⎛               ⎛π⋅n⋅x⎞            ⎞\n",
       "                          ⎜-√2⋅ℏ⋅ⅈ⋅π⋅n⋅cos⎜─────⎟            ⎟\n",
       "      ⎛π⋅n⋅x⎞             ⎜               ⎝  a  ⎠            ⎟\n",
       "√2⋅sin⎜─────⎟⋅Wavefunction⎜───────────────────────, (x, 0, a)⎟\n",
       "      ⎝  a  ⎠             ⎜           3/2                    ⎟\n",
       "                          ⎝          a                       ⎠\n",
       "──────────────────────────────────────────────────────────────\n",
       "                              √a                              "
      ]
     },
     "execution_count": 41,
     "metadata": {},
     "output_type": "execute_result"
    }
   ],
   "source": [
    "sp.physics.quantum.qapply(psi_n.expr*p*psi_n)"
   ]
  },
  {
   "cell_type": "code",
   "execution_count": 33,
   "metadata": {
    "collapsed": false
   },
   "outputs": [],
   "source": [
    "from sympy.physics.quantum import InnerProduct, Dagger"
   ]
  },
  {
   "cell_type": "code",
   "execution_count": 34,
   "metadata": {
    "collapsed": false
   },
   "outputs": [
    {
     "data": {
      "image/png": "[encoded data removed]",
      "text/latex": [
       "$$\\operatorname{Wavefunction}{\\left (\\frac{\\sqrt{2}}{\\sqrt{a}} \\sin{\\left (\\frac{\\pi x}{a} n \\right )},\\left ( x, \\quad 0, \\quad a\\right ) \\right )}$$"
      ],
      "text/plain": [
       "            ⎛      ⎛π⋅n⋅x⎞           ⎞\n",
       "            ⎜√2⋅sin⎜─────⎟           ⎟\n",
       "            ⎜      ⎝  a  ⎠           ⎟\n",
       "Wavefunction⎜─────────────, (x, 0, a)⎟\n",
       "            ⎝      √a                ⎠"
      ]
     },
     "execution_count": 34,
     "metadata": {},
     "output_type": "execute_result"
    }
   ],
   "source": [
    "Dagger(psi_n)"
   ]
  },
  {
   "cell_type": "code",
   "execution_count": 35,
   "metadata": {
    "collapsed": false
   },
   "outputs": [
    {
     "ename": "TypeError",
     "evalue": "KetBase subclass expected, got: Wavefunction(sqrt(2)*sin(pi*n*x/a)/sqrt(a), (x, 0, a))",
     "output_type": "error",
     "traceback": [
      "\u001b[0;31m---------------------------------------------------------------------------\u001b[0m",
      "\u001b[0;31mTypeError\u001b[0m                                 Traceback (most recent call last)",
      "\u001b[0;32m<ipython-input-35-8fe6425aa5a5>\u001b[0m in \u001b[0;36m<module>\u001b[0;34m()\u001b[0m\n\u001b[0;32m----> 1\u001b[0;31m \u001b[0mInnerProduct\u001b[0m\u001b[0;34m(\u001b[0m\u001b[0mDagger\u001b[0m\u001b[0;34m(\u001b[0m\u001b[0mpsi_n\u001b[0m\u001b[0;34m)\u001b[0m\u001b[0;34m,\u001b[0m \u001b[0mpsi_n\u001b[0m\u001b[0;34m)\u001b[0m\u001b[0;34m\u001b[0m\u001b[0m\n\u001b[0m",
      "\u001b[0;32m/Users/cmckay/anaconda/envs/PHYS362/lib/python3.5/site-packages/sympy/physics/quantum/innerproduct.py\u001b[0m in \u001b[0;36m__new__\u001b[0;34m(cls, bra, ket)\u001b[0m\n\u001b[1;32m     77\u001b[0m     \u001b[0;32mdef\u001b[0m \u001b[0m__new__\u001b[0m\u001b[0;34m(\u001b[0m\u001b[0mcls\u001b[0m\u001b[0;34m,\u001b[0m \u001b[0mbra\u001b[0m\u001b[0;34m,\u001b[0m \u001b[0mket\u001b[0m\u001b[0;34m)\u001b[0m\u001b[0;34m:\u001b[0m\u001b[0;34m\u001b[0m\u001b[0m\n\u001b[1;32m     78\u001b[0m         \u001b[0;32mif\u001b[0m \u001b[0;32mnot\u001b[0m \u001b[0misinstance\u001b[0m\u001b[0;34m(\u001b[0m\u001b[0mket\u001b[0m\u001b[0;34m,\u001b[0m \u001b[0mKetBase\u001b[0m\u001b[0;34m)\u001b[0m\u001b[0;34m:\u001b[0m\u001b[0;34m\u001b[0m\u001b[0m\n\u001b[0;32m---> 79\u001b[0;31m             \u001b[0;32mraise\u001b[0m \u001b[0mTypeError\u001b[0m\u001b[0;34m(\u001b[0m\u001b[0;34m'KetBase subclass expected, got: %r'\u001b[0m \u001b[0;34m%\u001b[0m \u001b[0mket\u001b[0m\u001b[0;34m)\u001b[0m\u001b[0;34m\u001b[0m\u001b[0m\n\u001b[0m\u001b[1;32m     80\u001b[0m         \u001b[0;32mif\u001b[0m \u001b[0;32mnot\u001b[0m \u001b[0misinstance\u001b[0m\u001b[0;34m(\u001b[0m\u001b[0mbra\u001b[0m\u001b[0;34m,\u001b[0m \u001b[0mBraBase\u001b[0m\u001b[0;34m)\u001b[0m\u001b[0;34m:\u001b[0m\u001b[0;34m\u001b[0m\u001b[0m\n\u001b[1;32m     81\u001b[0m             \u001b[0;32mraise\u001b[0m \u001b[0mTypeError\u001b[0m\u001b[0;34m(\u001b[0m\u001b[0;34m'BraBase subclass expected, got: %r'\u001b[0m \u001b[0;34m%\u001b[0m \u001b[0mket\u001b[0m\u001b[0;34m)\u001b[0m\u001b[0;34m\u001b[0m\u001b[0m\n",
      "\u001b[0;31mTypeError\u001b[0m: KetBase subclass expected, got: Wavefunction(sqrt(2)*sin(pi*n*x/a)/sqrt(a), (x, 0, a))"
     ]
    }
   ],
   "source": [
    "InnerProduct(Dagger(psi_n), psi_n)"
   ]
  },
  {
   "cell_type": "markdown",
   "metadata": {},
   "source": [
    "----\n",
    "\n",
    "## Portfolio references\n",
    "\n",
    "## Index terms\n",
    "\n",
    "## Book references\n",
    "\n",
    "## External references"
   ]
  }
 ],
 "metadata": {
  "anaconda-cloud": {},
  "kernelspec": {
   "display_name": "Python [conda env:PHYS362]",
   "language": "python",
   "name": "conda-env-PHYS362-py"
  },
  "language_info": {
   "codemirror_mode": {
    "name": "ipython",
    "version": 3
   },
   "file_extension": ".py",
   "mimetype": "text/x-python",
   "name": "python",
   "nbconvert_exporter": "python",
   "pygments_lexer": "ipython3",
   "version": "3.5.2"
  }
 },
 "nbformat": 4,
 "nbformat_minor": 0
}
